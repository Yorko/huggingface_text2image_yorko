{
 "cells": [
  {
   "cell_type": "code",
   "execution_count": 3,
   "metadata": {},
   "outputs": [],
   "source": [
    "# For full reproducibility, install additional packages\n",
    "# mentioned in ../requirement-optional.txt\n",
    "\n",
    "# basic Python imports\n",
    "import os\n",
    "import sys\n",
    "sys.path.append('../scripts/')\n",
    "from tqdm.notebook import tqdm\n",
    "from pathlib import Path\n",
    "import numpy as np\n",
    "import pickle\n",
    "\n",
    "# NLTK\n",
    "import nltk\n",
    "#nltk.download('wordnet')\n",
    "from nltk.corpus import wordnet as wn\n",
    "\n",
    "# Visualization\n",
    "from matplotlib import pyplot as plt\n",
    "from IPython import display\n",
    "from PIL import Image\n",
    "%config InlineBackend.figure_format = 'retina'\n",
    "\n",
    "# PyTorch\n",
    "import torch\n",
    "from torch.utils.data import Dataset, DataLoader\n",
    "\n",
    "# 3rd party and custom scripts \n",
    "from coco_utils import load_coco_data, sample_coco_minibatch, decode_captions\n",
    "from pytorch_pretrained_biggan.utils import IMAGENET, one_hot_from_names, save_as_images\n",
    "from transformers import AutoTokenizer, AutoModel\n",
    "from pytorch_pretrained_biggan import BigGAN, truncated_noise_sample\n",
    "import catalyst\n",
    "from catalyst.dl import SupervisedRunner\n",
    "from catalyst.dl.callbacks import EarlyStoppingCallback, CriterionCallback\n",
    "from catalyst.dl.utils import set_global_seed, prepare_cudnn, plot_metrics"
   ]
  },
  {
   "cell_type": "code",
   "execution_count": 5,
   "metadata": {},
   "outputs": [],
   "source": [
    "class_to_synset = dict((v, wn.synset_from_pos_and_offset('n', k)) \n",
    "                       for k, v in IMAGENET.items())"
   ]
  },
  {
   "cell_type": "code",
   "execution_count": 7,
   "metadata": {},
   "outputs": [],
   "source": [
    "# Initialize DistilBERT tokenizer\n",
    "lm_tokenizer = AutoTokenizer.from_pretrained('distilbert-base-uncased')"
   ]
  },
  {
   "cell_type": "code",
   "execution_count": 8,
   "metadata": {},
   "outputs": [
    {
     "data": {
      "application/vnd.jupyter.widget-view+json": {
       "model_id": "20c9aa753ca54b3282d5bbc0b70a77f7",
       "version_major": 2,
       "version_minor": 0
      },
      "text/plain": [
       "HBox(children=(IntProgress(value=0, max=1000), HTML(value='')))"
      ]
     },
     "metadata": {},
     "output_type": "display_data"
    },
    {
     "name": "stdout",
     "output_type": "stream",
     "text": [
      "\n"
     ]
    }
   ],
   "source": [
    "words_dataset = {}\n",
    "all_words = set()\n",
    "for i, synset in tqdm(class_to_synset.items()):\n",
    "    current_synset = synset\n",
    "    while current_synset:\n",
    "        for lemma in current_synset.lemmas():\n",
    "            name = lemma.name().replace('_', ' ').lower()\n",
    "            if name in all_words:\n",
    "                continue  # Word is already assigned\n",
    "            if lm_tokenizer.convert_tokens_to_ids(name) != lm_tokenizer.unk_token_id:\n",
    "                # Word is in Bert tokenizer vocabulary\n",
    "                words_dataset[i] = name\n",
    "                all_words.add(name)\n",
    "                current_synset = False # We're good\n",
    "                break\n",
    "        if current_synset and current_synset.hypernyms():\n",
    "            current_synset = current_synset.hypernyms()[0]\n",
    "        else:\n",
    "            current_synset = False"
   ]
  },
  {
   "cell_type": "code",
   "execution_count": 11,
   "metadata": {},
   "outputs": [
    {
     "data": {
      "text/plain": [
       "False"
      ]
     },
     "execution_count": 11,
     "metadata": {},
     "output_type": "execute_result"
    }
   ],
   "source": [
    "'buss' in all_words"
   ]
  },
  {
   "cell_type": "code",
   "execution_count": null,
   "metadata": {},
   "outputs": [],
   "source": []
  }
 ],
 "metadata": {
  "kernelspec": {
   "display_name": "Python 3",
   "language": "python",
   "name": "python3"
  },
  "language_info": {
   "codemirror_mode": {
    "name": "ipython",
    "version": 3
   },
   "file_extension": ".py",
   "mimetype": "text/x-python",
   "name": "python",
   "nbconvert_exporter": "python",
   "pygments_lexer": "ipython3",
   "version": "3.7.3"
  }
 },
 "nbformat": 4,
 "nbformat_minor": 2
}
